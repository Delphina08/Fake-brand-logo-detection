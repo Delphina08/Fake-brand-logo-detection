{
 "cells": [
  {
   "cell_type": "markdown",
   "id": "8a6a5bcc",
   "metadata": {},
   "source": [
    "vgg16 Model"
   ]
  },
  {
   "cell_type": "code",
   "execution_count": null,
   "id": "fe1349b3",
   "metadata": {},
   "outputs": [],
   "source": [
    "import tensorflow as tf\n",
    "from tensorflow.keras.applications import VGG16\n",
    "from tensorflow.keras.models import Sequential\n",
    "from tensorflow.keras.layers import Dense, Flatten, BatchNormalization\n",
    "from tensorflow.keras.optimizers import RMSprop\n",
    "from tensorflow.keras.preprocessing.image import ImageDataGenerator\n",
    "from tensorflow.keras.utils import to_categorical\n",
    "\n",
    "# Convert the labels to categorical format\n",
    "num_classes = 2\n",
    "train_labels_categorical = to_categorical(train_labels, num_classes)\n",
    "val_labels_categorical = to_categorical(val_labels, num_classes)\n",
    "test_labels_categorical = to_categorical(test_labels, num_classes)\n",
    "\n",
    "# Resize the input images to match VGG16's expected input shape\n",
    "target_size = (256, 256)\n",
    "train_images_resized = tf.image.resize(train_images, target_size)\n",
    "val_images_resized = tf.image.resize(val_images, target_size)\n",
    "test_images_resized = tf.image.resize(test_images, target_size)\n",
    "\n",
    "# Create ImageDataGenerator instances for image preprocessing\n",
    "train_datagen = ImageDataGenerator(rescale=1.0/255.0)\n",
    "val_datagen = ImageDataGenerator(rescale=1.0/255.0)\n",
    "test_datagen = ImageDataGenerator(rescale=1.0/255.0)\n",
    "\n",
    "# Prepare the data generators\n",
    "train_generator = train_datagen.flow(train_images_resized, train_labels_categorical, batch_size=25)\n",
    "val_generator = val_datagen.flow(val_images_resized, val_labels_categorical, batch_size=25)\n",
    "test_generator = test_datagen.flow(test_images_resized, test_labels_categorical, batch_size=25)\n",
    "\n",
    "# Load the VGG16 model\n",
    "vgg16_model = VGG16(weights='imagenet', include_top=False, input_shape=(256, 256, 3))\n",
    "\n",
    "# Freeze the pre-trained layers\n",
    "for layer in vgg16_model.layers:\n",
    "    layer.trainable = False\n",
    "\n",
    "# Create a new model\n",
    "model = Sequential()\n",
    "model.add(vgg16_model)\n",
    "model.add(Flatten())\n",
    "model.add(Dense(128, activation='relu'))\n",
    "model.add(BatchNormalization())\n",
    "model.add(Dense(num_classes, activation='softmax'))\n",
    "\n",
    "model.summary()\n",
    "\n",
    "model.compile(optimizer=RMSprop(), loss='categorical_crossentropy', metrics=['accuracy'])\n",
    "\n",
    "# Train the model for 20 epochs\n",
    "history = model.fit(train_generator, epochs=20,\n",
    "                    validation_data=val_generator, verbose=1)\n",
    "\n",
    "# Evaluate the model on test data\n",
    "test_loss, test_acc = model.evaluate(test_generator)\n",
    "\n",
    "# Evaluate the model on validation data\n",
    "validation_loss, validation_acc = model.evaluate(val_generator)\n",
    "\n",
    "# Print the test and validation accuracy\n",
    "print('Test accuracy:', test_acc)\n",
    "print('Validation accuracy:', validation_acc)"
   ]
  }
 ],
 "metadata": {
  "kernelspec": {
   "display_name": "Python 3 (ipykernel)",
   "language": "python",
   "name": "python3"
  },
  "language_info": {
   "codemirror_mode": {
    "name": "ipython",
    "version": 3
   },
   "file_extension": ".py",
   "mimetype": "text/x-python",
   "name": "python",
   "nbconvert_exporter": "python",
   "pygments_lexer": "ipython3",
   "version": "3.10.9"
  }
 },
 "nbformat": 4,
 "nbformat_minor": 5
}
